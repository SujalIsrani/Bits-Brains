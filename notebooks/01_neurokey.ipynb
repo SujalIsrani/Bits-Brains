{
 "cells": [
  {
   "cell_type": "code",
   "execution_count": 1,
   "id": "3c77d69e",
   "metadata": {},
   "outputs": [],
   "source": [
    "# ✅ Step 1: Setup & Imports\n",
    "import sys\n",
    "sys.path.append('C:/Users/isgis/OneDrive/Desktop/NeuroKey/src')  # Import from src folder\n",
    "\n",
    "from data_preprocessing import load_and_preprocess_data\n",
    "from random_forest import train_and_save_rf\n",
    "from model_explainability import load_model, explain_model\n",
    "\n",
    "import pandas as pd\n",
    "import matplotlib.pyplot as plt"
   ]
  },
  {
   "cell_type": "code",
   "execution_count": 2,
   "id": "edb95e3a",
   "metadata": {},
   "outputs": [
    {
     "name": "stdout",
     "output_type": "stream",
     "text": [
      "Data Shape: (85, 7)\n",
      "Columns: ['pID', 'gt', 'updrs108', 'afTap', 'sTap', 'nqScore', 'Typing speed']\n",
      "X_train shape: (60, 4)\n",
      "y_train value counts:\n",
      " gt\n",
      "0    31\n",
      "1    29\n",
      "Name: count, dtype: int64\n"
     ]
    }
   ],
   "source": [
    "# ✅ Step 2: Load and Preprocess Data\n",
    "file_path = 'C:/Users/isgis/OneDrive/Desktop/NeuroKey/data/processed/features_combined.csv'\n",
    "\n",
    "X_train, X_test, y_train, y_test, scaler, feature_names = load_and_preprocess_data(file_path)\n",
    "\n",
    "print(\"X_train shape:\", X_train.shape)\n",
    "print(\"y_train value counts:\\n\", y_train.value_counts())"
   ]
  },
  {
   "cell_type": "code",
   "execution_count": 3,
   "id": "cca24562",
   "metadata": {},
   "outputs": [
    {
     "name": "stdout",
     "output_type": "stream",
     "text": [
      "\n",
      "🔍 Logistic Regression Accuracy: 87.50%\n",
      "              precision    recall  f1-score   support\n",
      "\n",
      "     Healthy       0.88      0.88      0.88         8\n",
      "          PD       0.88      0.88      0.88         8\n",
      "\n",
      "    accuracy                           0.88        16\n",
      "   macro avg       0.88      0.88      0.88        16\n",
      "weighted avg       0.88      0.88      0.88        16\n",
      "\n",
      "\n",
      "🔍 Random Forest Accuracy: 93.75%\n",
      "              precision    recall  f1-score   support\n",
      "\n",
      "     Healthy       1.00      0.88      0.93         8\n",
      "          PD       0.89      1.00      0.94         8\n",
      "\n",
      "    accuracy                           0.94        16\n",
      "   macro avg       0.94      0.94      0.94        16\n",
      "weighted avg       0.94      0.94      0.94        16\n",
      "\n",
      "\n",
      "🔍 Gradient Boosting Accuracy: 87.50%\n",
      "              precision    recall  f1-score   support\n",
      "\n",
      "     Healthy       0.88      0.88      0.88         8\n",
      "          PD       0.88      0.88      0.88         8\n",
      "\n",
      "    accuracy                           0.88        16\n",
      "   macro avg       0.88      0.88      0.88        16\n",
      "weighted avg       0.88      0.88      0.88        16\n",
      "\n",
      "\n",
      "🔍 SVM (Linear) Accuracy: 81.25%\n",
      "              precision    recall  f1-score   support\n",
      "\n",
      "     Healthy       0.78      0.88      0.82         8\n",
      "          PD       0.86      0.75      0.80         8\n",
      "\n",
      "    accuracy                           0.81        16\n",
      "   macro avg       0.82      0.81      0.81        16\n",
      "weighted avg       0.82      0.81      0.81        16\n",
      "\n",
      "\n",
      "🔍 SVM (RBF) Accuracy: 93.75%\n",
      "              precision    recall  f1-score   support\n",
      "\n",
      "     Healthy       1.00      0.88      0.93         8\n",
      "          PD       0.89      1.00      0.94         8\n",
      "\n",
      "    accuracy                           0.94        16\n",
      "   macro avg       0.94      0.94      0.94        16\n",
      "weighted avg       0.94      0.94      0.94        16\n",
      "\n",
      "\n",
      "🔍 KNN Accuracy: 81.25%\n",
      "              precision    recall  f1-score   support\n",
      "\n",
      "     Healthy       1.00      0.62      0.77         8\n",
      "          PD       0.73      1.00      0.84         8\n",
      "\n",
      "    accuracy                           0.81        16\n",
      "   macro avg       0.86      0.81      0.81        16\n",
      "weighted avg       0.86      0.81      0.81        16\n",
      "\n"
     ]
    }
   ],
   "source": [
    "from sklearn.linear_model import LogisticRegression\n",
    "from sklearn.ensemble import RandomForestClassifier, GradientBoostingClassifier, VotingClassifier\n",
    "from sklearn.svm import SVC\n",
    "from sklearn.neighbors import KNeighborsClassifier\n",
    "from sklearn.metrics import accuracy_score, classification_report\n",
    "\n",
    "# Store models in a dictionary\n",
    "models = {\n",
    "    'Logistic Regression': LogisticRegression(class_weight='balanced', random_state=42, max_iter=1000),\n",
    "    'Random Forest': RandomForestClassifier(n_estimators=100, random_state=42),\n",
    "    'Gradient Boosting': GradientBoostingClassifier(n_estimators=100, learning_rate=0.1, random_state=42),\n",
    "    'SVM (Linear)': SVC(kernel='linear', probability=True, random_state=42),\n",
    "    'SVM (RBF)': SVC(kernel='rbf', probability=True, random_state=42),\n",
    "    'KNN': KNeighborsClassifier(n_neighbors=5)\n",
    "}\n",
    "\n",
    "# Loop through models and evaluate\n",
    "for name, model in models.items():\n",
    "    model.fit(X_train, y_train)\n",
    "    y_pred = model.predict(X_test)\n",
    "    acc = accuracy_score(y_test, y_pred)\n",
    "    print(f\"\\n🔍 {name} Accuracy: {acc:.2%}\")\n",
    "    print(classification_report(y_test, y_pred, target_names=['Healthy', 'PD']))\n"
   ]
  },
  {
   "cell_type": "code",
   "execution_count": 4,
   "id": "814e2b26",
   "metadata": {},
   "outputs": [
    {
     "name": "stdout",
     "output_type": "stream",
     "text": [
      "Voting Classifier Accuracy: 0.9375\n"
     ]
    }
   ],
   "source": [
    "voting = VotingClassifier(\n",
    "    estimators=[\n",
    "        ('lr', models['Logistic Regression']),\n",
    "        ('rf', models['Random Forest']),\n",
    "        ('svm', models['SVM (RBF)'])\n",
    "    ],\n",
    "    voting='soft'\n",
    ")\n",
    "voting.fit(X_train, y_train)\n",
    "y_pred = voting.predict(X_test)\n",
    "print(\"Voting Classifier Accuracy:\", accuracy_score(y_test, y_pred))\n"
   ]
  },
  {
   "cell_type": "code",
   "execution_count": 5,
   "id": "478b06e6",
   "metadata": {},
   "outputs": [
    {
     "name": "stdout",
     "output_type": "stream",
     "text": [
      "\n",
      "✅ Random Forest Accuracy: 93.75%\n",
      "\n",
      "✅ Classification Report:\n",
      "              precision    recall  f1-score   support\n",
      "\n",
      "     Healthy       1.00      0.88      0.93         8\n",
      "          PD       0.89      1.00      0.94         8\n",
      "\n",
      "    accuracy                           0.94        16\n",
      "   macro avg       0.94      0.94      0.94        16\n",
      "weighted avg       0.94      0.94      0.94        16\n",
      "\n"
     ]
    },
    {
     "data": {
      "image/png": "[encoded data removed]",
      "text/plain": [
       "<Figure size 500x400 with 2 Axes>"
      ]
     },
     "metadata": {},
     "output_type": "display_data"
    },
    {
     "name": "stdout",
     "output_type": "stream",
     "text": [
      "\n",
      "✅ Model saved to: C:/Users/isgis/OneDrive/Desktop/NeuroKey/models/rf_pd_model.pkl\n",
      "✅ Scaler saved to: C:/Users/isgis/OneDrive/Desktop/NeuroKey/models/scaler.pkl\n"
     ]
    }
   ],
   "source": [
    "# ✅ Step 3: Train Model and Save\n",
    "model_save_path = 'C:/Users/isgis/OneDrive/Desktop/NeuroKey/models/rf_pd_model.pkl'\n",
    "scaler_save_path = 'C:/Users/isgis/OneDrive/Desktop/NeuroKey/models/scaler.pkl'\n",
    "\n",
    "train_and_save_rf(file_path, model_save_path, scaler_save_path)\n"
   ]
  },
  {
   "cell_type": "code",
   "execution_count": 6,
   "id": "fc277888",
   "metadata": {},
   "outputs": [],
   "source": [
    "# ✅ Step 4: Load Trained Model\n",
    "model = load_model(model_save_path)"
   ]
  },
  {
   "cell_type": "code",
   "execution_count": 7,
   "id": "094dae94",
   "metadata": {},
   "outputs": [
    {
     "name": "stdout",
     "output_type": "stream",
     "text": [
      "✅ SHAP summary plot saved to: C:/Users/isgis/OneDrive/Desktop/NeuroKey/outputs/shap_plots/shap1.png\n"
     ]
    },
    {
     "data": {
      "image/png": "[encoded data removed]",
      "text/plain": [
       "<Figure size 1150x660 with 2 Axes>"
      ]
     },
     "metadata": {},
     "output_type": "display_data"
    }
   ],
   "source": [
    "# ✅ Step 5: SHAP Global Explanation\n",
    "explain_model(model, X_train, feature_names, save_summary_path='C:/Users/isgis/OneDrive/Desktop/NeuroKey/outputs/shap_plots/shap1.png')"
   ]
  },
  {
   "cell_type": "code",
   "execution_count": 13,
   "id": "91d8be3f",
   "metadata": {},
   "outputs": [
    {
     "name": "stdout",
     "output_type": "stream",
     "text": [
      "Scaler mean: [9.42670667e-02 1.06440208e+02 1.12537500e+02 1.68379167e+02]\n",
      "Scaler scale: [ 0.0849326  53.5483582  28.28006604 19.75123897]\n",
      "Model classes: [0 1]\n"
     ]
    }
   ],
   "source": [
    "import pickle\n",
    "import pandas as pd\n",
    "\n",
    "# Load model\n",
    "with open('C:/Users/isgis/OneDrive/Desktop/NeuroKey/models/rf_pd_model.pkl', 'rb') as f:\n",
    "    model = pickle.load(f)\n",
    "\n",
    "# Load scaler\n",
    "with open('C:/Users/isgis/OneDrive/Desktop/NeuroKey/models/scaler.pkl', 'rb') as f:\n",
    "    scaler = pickle.load(f)\n",
    "\n",
    "print(\"Scaler mean:\", scaler.mean_)\n",
    "print(\"Scaler scale:\", scaler.scale_)\n",
    "print(\"Model classes:\", model.classes_)"
   ]
  },
  {
   "cell_type": "code",
   "execution_count": 14,
   "id": "3e79f9e3",
   "metadata": {},
   "outputs": [
    {
     "name": "stdout",
     "output_type": "stream",
     "text": [
      "\n",
      "Manual Input (raw):\n",
      "    nqScore  Typing speed  afTap  sTap\n",
      "0      1.0           5.0    1.0   1.0\n",
      "\n",
      "Manual Input (scaled):\n",
      " [[10.66413775 -1.89436636 -3.94403251 -8.47436289]]\n"
     ]
    }
   ],
   "source": [
    "# Create sample input (try different values here)\n",
    "input_sample = pd.DataFrame([{\n",
    "    'nqScore': 1.0,\n",
    "    'Typing speed': 5.0,\n",
    "    'afTap': 1.0,\n",
    "    'sTap': 1.0\n",
    "}])\n",
    "\n",
    "print(\"\\nManual Input (raw):\\n\", input_sample)\n",
    "\n",
    "# Scale input\n",
    "scaled_sample = scaler.transform(input_sample)\n",
    "print(\"\\nManual Input (scaled):\\n\", scaled_sample)\n"
   ]
  },
  {
   "cell_type": "code",
   "execution_count": 15,
   "id": "6b8fc0ad",
   "metadata": {},
   "outputs": [
    {
     "name": "stdout",
     "output_type": "stream",
     "text": [
      "\n",
      "Predicted Class: [0]\n",
      "Predicted Probability: 0.5\n"
     ]
    }
   ],
   "source": [
    "# Predict\n",
    "pred_class = model.predict(scaled_sample)\n",
    "pred_prob = model.predict_proba(scaled_sample)[0][1]\n",
    "\n",
    "print(\"\\nPredicted Class:\", pred_class)\n",
    "print(\"Predicted Probability:\", pred_prob)\n"
   ]
  },
  {
   "cell_type": "code",
   "execution_count": 16,
   "id": "a5439958",
   "metadata": {},
   "outputs": [
    {
     "name": "stdout",
     "output_type": "stream",
     "text": [
      "         nqScore  Typing speed       afTap        sTap\n",
      "count  85.000000     85.000000   76.000000   85.000000\n",
      "mean    0.094529    105.211102  112.625000  166.911765\n",
      "std     0.080379     51.970479   30.195516   20.848401\n",
      "min    -0.011150     21.777780   49.500000   98.000000\n",
      "25%     0.041333     65.818180   92.750000  157.000000\n",
      "50%     0.070350     99.921570  115.125000  169.000000\n",
      "75%     0.107535    137.629600  131.125000  179.000000\n",
      "max     0.417310    257.166700  213.000000  213.000000\n"
     ]
    }
   ],
   "source": [
    "import pandas as pd\n",
    "\n",
    "df = pd.read_csv('C:/Users/isgis/OneDrive/Desktop/NeuroKey/data/processed/features_combined.csv')\n",
    "print(df[['nqScore', 'Typing speed', 'afTap', 'sTap']].describe())\n"
   ]
  },
  {
   "cell_type": "code",
   "execution_count": 19,
   "id": "717815b7",
   "metadata": {},
   "outputs": [
    {
     "name": "stdout",
     "output_type": "stream",
     "text": [
      "Predicted class: [1]\n",
      "Predicted probability: 0.95\n"
     ]
    }
   ],
   "source": [
    "sample = pd.DataFrame([{\n",
    "    'nqScore': 0.15,\n",
    "    'Typing speed': 80.0,\n",
    "    'afTap': 100.0,\n",
    "    'sTap': 140.0\n",
    "}])\n",
    "\n",
    "\n",
    "scaled_sample = scaler.transform(sample)\n",
    "print(\"Predicted class:\", model.predict(scaled_sample))\n",
    "print(\"Predicted probability:\", model.predict_proba(scaled_sample)[0][1])\n"
   ]
  }
 ],
 "metadata": {
  "kernelspec": {
   "display_name": "venv",
   "language": "python",
   "name": "python3"
  },
  "language_info": {
   "codemirror_mode": {
    "name": "ipython",
    "version": 3
   },
   "file_extension": ".py",
   "mimetype": "text/x-python",
   "name": "python",
   "nbconvert_exporter": "python",
   "pygments_lexer": "ipython3",
   "version": "3.13.1"
  }
 },
 "nbformat": 4,
 "nbformat_minor": 5
}
